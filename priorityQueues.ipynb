{
 "cells": [
  {
   "cell_type": "markdown",
   "metadata": {},
   "source": [
    "1. Define a class PriorityQueue to implement priority queue data structure using list. Provide __init__() method to create a list object (initially empty).\n",
    "2. Define a push method in PriorityQueue class to insert new data with given priority.\n",
    "3. Define a pop method in PriorityQueue class, which returns the highest priority data stored in the priority queue data structure. Raise exception if priority queue is empty.\n",
    "4. Define is_empty method in PriorityQueue class to check if the priority queue is empty.\n",
    "5. In class PriorityQueue, define a method size to return the number of elements present in the priority queue."
   ]
  },
  {
   "cell_type": "code",
   "execution_count": null,
   "metadata": {},
   "outputs": [],
   "source": [
    "Alok\n",
    "Omjee\n",
    "Shub\n",
    "Ayush\n",
    "Rajeev\n",
    "Aman"
   ]
  },
  {
   "cell_type": "code",
   "execution_count": 3,
   "metadata": {},
   "outputs": [
    {
     "name": "stdout",
     "output_type": "stream",
     "text": [
      "Alok\n",
      "Omjee\n",
      "Shub\n",
      "Ayush\n",
      "Rajeev\n",
      "Aman\n"
     ]
    }
   ],
   "source": [
    "# 1.\n",
    "class Node:\n",
    "  def __init__(self,item=None,priority=None,next=None):\n",
    "    self.item = item\n",
    "    self.priority = priority\n",
    "    self.next = next\n",
    "# 2.\n",
    "class PriorityQueue:\n",
    "  def __init__(self):\n",
    "    self.start = None\n",
    "    self.item_count = 0\n",
    "# 3.\n",
    "  def push(self,data,priority):\n",
    "    n = Node(data,priority)\n",
    "    if not self.start or priority < self.start.priority:\n",
    "      n.next = self.start\n",
    "      self.start = n\n",
    "    else:\n",
    "      temp = self.start\n",
    "      while temp.next and temp.next.priority <= priority:\n",
    "        temp = temp.next\n",
    "      n.next = temp.next\n",
    "      temp.next = n\n",
    "    self.item_count += 1\n",
    "# 5.\n",
    "  def is_empty(self):\n",
    "    return self.start == None\n",
    "# 4.\n",
    "  def pop(self):\n",
    "    if self.is_empty():\n",
    "      raise IndexError(\"Priority Queue is empty\")\n",
    "    data = self.start.item\n",
    "    self.start = self.start.next\n",
    "    self.item_count -= 1\n",
    "    return data\n",
    "# 6.\n",
    "  def size(self):\n",
    "    return self.item_count\n",
    "\n",
    "# Driver Code\n",
    "p = PriorityQueue()\n",
    "p.push(\"Alok\",1)\n",
    "p.push(\"Ayush\",5)\n",
    "p.push(\"Shub\",4)\n",
    "p.push(\"Rajeev\",7)\n",
    "p.push(\"Aman\",8)\n",
    "p.push(\"Omjee\",3)\n",
    "\n",
    "while not p.is_empty():\n",
    "  print(p.pop())"
   ]
  }
 ],
 "metadata": {
  "kernelspec": {
   "display_name": "Python 3",
   "language": "python",
   "name": "python3"
  },
  "language_info": {
   "codemirror_mode": {
    "name": "ipython",
    "version": 3
   },
   "file_extension": ".py",
   "mimetype": "text/x-python",
   "name": "python",
   "nbconvert_exporter": "python",
   "pygments_lexer": "ipython3",
   "version": "3.11.9"
  }
 },
 "nbformat": 4,
 "nbformat_minor": 2
}
