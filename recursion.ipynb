{
 "cells": [
  {
   "cell_type": "markdown",
   "metadata": {},
   "source": [
    "Recursion\n",
    "\n",
    "Simple Problems on Recursion\n",
    "1. Write a recursive function to print first N natural numbers."
   ]
  },
  {
   "cell_type": "code",
   "execution_count": 1,
   "metadata": {},
   "outputs": [
    {
     "name": "stdout",
     "output_type": "stream",
     "text": [
      "1 2 3 4 5 6 7 8 9 10 "
     ]
    }
   ],
   "source": [
    "def printN(n):\n",
    "  if n>0:\n",
    "    printN(n-1)\n",
    "    print(n,end=' ')\n",
    "\n",
    "printN(10)"
   ]
  },
  {
   "cell_type": "markdown",
   "metadata": {},
   "source": [
    "2. Write a recursive function to print first N natural numbers in reverse order."
   ]
  },
  {
   "cell_type": "code",
   "execution_count": 2,
   "metadata": {},
   "outputs": [
    {
     "name": "stdout",
     "output_type": "stream",
     "text": [
      "10 9 8 7 6 5 4 3 2 1 "
     ]
    }
   ],
   "source": [
    "def printNreverse(n):\n",
    "  if n>0:\n",
    "    print(n,end=' ')\n",
    "    printNreverse(n-1)\n",
    "\n",
    "printNreverse(10)"
   ]
  },
  {
   "cell_type": "markdown",
   "metadata": {},
   "source": [
    "3. Write a recursive function to print first N odd natural numbers."
   ]
  },
  {
   "cell_type": "code",
   "execution_count": 3,
   "metadata": {},
   "outputs": [
    {
     "name": "stdout",
     "output_type": "stream",
     "text": [
      "1 3 5 7 9 11 13 15 17 19 "
     ]
    }
   ],
   "source": [
    "def printNOdd(n):\n",
    "  if n>0:\n",
    "    printNOdd(n-1)\n",
    "    print(2*n-1,end=' ')\n",
    "\n",
    "printNOdd(10)"
   ]
  },
  {
   "cell_type": "markdown",
   "metadata": {},
   "source": [
    "4. Write a recursive function to print first N even natural numbers."
   ]
  },
  {
   "cell_type": "code",
   "execution_count": 4,
   "metadata": {},
   "outputs": [
    {
     "name": "stdout",
     "output_type": "stream",
     "text": [
      "2 4 6 8 10 12 14 16 18 20 "
     ]
    }
   ],
   "source": [
    "def printNEven(n):\n",
    "  if n>0:\n",
    "    printNEven(n-1)\n",
    "    print(2*n,end=' ')\n",
    "\n",
    "printNEven(10)"
   ]
  },
  {
   "cell_type": "markdown",
   "metadata": {},
   "source": [
    "5. Write a recursive function to print first N odd natural numbers in reverse order."
   ]
  },
  {
   "cell_type": "code",
   "execution_count": 5,
   "metadata": {},
   "outputs": [
    {
     "name": "stdout",
     "output_type": "stream",
     "text": [
      "19 17 15 13 11 9 7 5 3 1 "
     ]
    }
   ],
   "source": [
    "def printNOddreverse(n):\n",
    "  if n>0:\n",
    "    print(2*n-1,end=' ')\n",
    "    printNOddreverse(n-1)\n",
    "\n",
    "printNOddreverse(10)"
   ]
  },
  {
   "cell_type": "markdown",
   "metadata": {},
   "source": [
    "6. Write a recursive function to print first N even natural numbers in reverse order."
   ]
  },
  {
   "cell_type": "code",
   "execution_count": 6,
   "metadata": {},
   "outputs": [
    {
     "name": "stdout",
     "output_type": "stream",
     "text": [
      "20 18 16 14 12 10 8 6 4 2 "
     ]
    }
   ],
   "source": [
    "def printNEvenreverse(n):\n",
    "  if n>0:\n",
    "    print(2*n,end=' ')\n",
    "    printNEvenreverse(n-1)\n",
    "\n",
    "printNEvenreverse(10)"
   ]
  },
  {
   "cell_type": "markdown",
   "metadata": {},
   "source": [
    "7. Write a recursive function to calculate sum of first N natural numbers."
   ]
  },
  {
   "cell_type": "code",
   "execution_count": 7,
   "metadata": {},
   "outputs": [
    {
     "name": "stdout",
     "output_type": "stream",
     "text": [
      "Sum of first N natural numbers is -  55\n"
     ]
    }
   ],
   "source": [
    "def sumN(n):\n",
    "  if n==0:\n",
    "    return 0\n",
    "  return n+sumN(n-1)\n",
    "\n",
    "print(\"Sum of first N natural numbers is - \",sumN(10))"
   ]
  },
  {
   "cell_type": "markdown",
   "metadata": {},
   "source": [
    "8. Write a recursive function to calculate sum of first N odd natural numbers."
   ]
  },
  {
   "cell_type": "code",
   "execution_count": 8,
   "metadata": {},
   "outputs": [
    {
     "name": "stdout",
     "output_type": "stream",
     "text": [
      "Sum of first N Odd natural number is -  100\n"
     ]
    }
   ],
   "source": [
    "def sumNOdd(n):\n",
    "  if n==0:\n",
    "    return 0\n",
    "  return 2*n-1+sumNOdd(n-1)\n",
    "\n",
    "print(\"Sum of first N Odd natural number is - \",sumNOdd(10))"
   ]
  },
  {
   "cell_type": "markdown",
   "metadata": {},
   "source": [
    "9. Write a recursive function to calculate sum of first N even natural numbers."
   ]
  },
  {
   "cell_type": "code",
   "execution_count": 9,
   "metadata": {},
   "outputs": [
    {
     "name": "stdout",
     "output_type": "stream",
     "text": [
      "Sum of first N even natural number is -  110\n"
     ]
    }
   ],
   "source": [
    "def sumNEven(n):\n",
    "  if n==0:\n",
    "    return 0\n",
    "  return 2*n+sumNEven(n-1)\n",
    "\n",
    "print(\"Sum of first N even natural number is - \",sumNEven(10))"
   ]
  },
  {
   "cell_type": "markdown",
   "metadata": {},
   "source": [
    "11. Write a recursive function to calculate sum of squares of first N natural numbers."
   ]
  },
  {
   "cell_type": "code",
   "execution_count": 10,
   "metadata": {},
   "outputs": [
    {
     "name": "stdout",
     "output_type": "stream",
     "text": [
      "Sum of Squares of first N natural numbers -  55\n"
     ]
    }
   ],
   "source": [
    "def sumNSquare(n):\n",
    "  if n==0:\n",
    "    return 0\n",
    "  return n*n +sumNSquare(n-1)\n",
    "\n",
    "print(\"Sum of Squares of first N natural numbers - \",sumNSquare(5))"
   ]
  }
 ],
 "metadata": {
  "kernelspec": {
   "display_name": "Python 3",
   "language": "python",
   "name": "python3"
  },
  "language_info": {
   "codemirror_mode": {
    "name": "ipython",
    "version": 3
   },
   "file_extension": ".py",
   "mimetype": "text/x-python",
   "name": "python",
   "nbconvert_exporter": "python",
   "pygments_lexer": "ipython3",
   "version": "3.11.9"
  }
 },
 "nbformat": 4,
 "nbformat_minor": 2
}
