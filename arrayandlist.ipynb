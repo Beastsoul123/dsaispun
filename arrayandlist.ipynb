{
 "cells": [
  {
   "cell_type": "markdown",
   "metadata": {},
   "source": [
    "Write a program to sort an array"
   ]
  },
  {
   "cell_type": "code",
   "execution_count": 1,
   "metadata": {},
   "outputs": [
    {
     "name": "stdout",
     "output_type": "stream",
     "text": [
      "Sorted array: [3, 8, 9, 10, 11, 23]\n"
     ]
    }
   ],
   "source": [
    "import numpy as np\n",
    "array=np.array([10,9,8,11,23,3])\n",
    "sorted_arr=sorted(array)\n",
    "print(\"Sorted array:\",sorted_arr)"
   ]
  },
  {
   "cell_type": "markdown",
   "metadata": {},
   "source": [
    "Write a python script to remove all the non int values from the list"
   ]
  },
  {
   "cell_type": "code",
   "execution_count": 2,
   "metadata": {},
   "outputs": [
    {
     "name": "stdout",
     "output_type": "stream",
     "text": [
      "Original List: [2, 'mango', 12, 'bat', 1.89, 'banana', 'pear', 10]\n",
      "List with only integers: [2, 12, 10]\n"
     ]
    }
   ],
   "source": [
    "lst=[2,'mango',12,'bat',1.89,'banana','pear',10]\n",
    "int_list=[]\n",
    "for x in lst:\n",
    "    if isinstance(x,int):\n",
    "        int_list.append(x)\n",
    "print(\"Original List:\",lst)\n",
    "print(\"List with only integers:\",int_list)"
   ]
  },
  {
   "cell_type": "markdown",
   "metadata": {},
   "source": [
    "Write a Python Script to calculate average of element of a list."
   ]
  },
  {
   "cell_type": "code",
   "execution_count": 3,
   "metadata": {},
   "outputs": [
    {
     "name": "stdout",
     "output_type": "stream",
     "text": [
      "Average of the value of the list is: 33.0\n"
     ]
    }
   ],
   "source": [
    "lst=[10,30,23,12,89,34]\n",
    "lst_avg=sum(lst)/len(lst)\n",
    "print(\"Average of the value of the list is:\",lst_avg)"
   ]
  },
  {
   "cell_type": "markdown",
   "metadata": {},
   "source": [
    "Write a Python Script to create a list of first N prime numbers"
   ]
  },
  {
   "cell_type": "code",
   "execution_count": 9,
   "metadata": {},
   "outputs": [
    {
     "name": "stdout",
     "output_type": "stream",
     "text": [
      "The first 10 prime numbers are: [2, 3, 5, 7, 11, 13, 17, 19, 23, 29]\n"
     ]
    }
   ],
   "source": [
    "def is_prime(num):\n",
    "    if num < 2:\n",
    "        return False\n",
    "    for i in range(2, int(num**0.5) + 1):\n",
    "        if num % i == 0:\n",
    "            return False\n",
    "    return True\n",
    "\n",
    "def generate_primes(n):\n",
    "    primes = []\n",
    "    num = 2  \n",
    "    while len(primes) < n:\n",
    "        if is_prime(num):\n",
    "            primes.append(num)\n",
    "        num += 1\n",
    "    return primes\n",
    "N = 10  \n",
    "prime_list = generate_primes(N)\n",
    "print(f\"The first {N} prime numbers are:\", prime_list)"
   ]
  },
  {
   "cell_type": "markdown",
   "metadata": {},
   "source": [
    "Write a Python Script to create a list of first N terms of a Fibonacci series."
   ]
  },
  {
   "cell_type": "code",
   "execution_count": 11,
   "metadata": {},
   "outputs": [
    {
     "name": "stdout",
     "output_type": "stream",
     "text": [
      "The first 10 terms of the Fibonacci series are: [0, 1, 1, 2, 3, 5, 8, 13, 21, 34]\n"
     ]
    }
   ],
   "source": [
    "def gen_fib(n):\n",
    "    fib_lst=[]\n",
    "    a,b=0,1\n",
    "    for _ in range(n):\n",
    "        fib_lst.append(a)\n",
    "        a,b=b,a+b\n",
    "    return fib_lst\n",
    "N=10\n",
    "fib_series=gen_fib(N)\n",
    "print(f\"The first {N} terms of the Fibonacci series are:\", fib_series)"
   ]
  }
 ],
 "metadata": {
  "kernelspec": {
   "display_name": "Python 3",
   "language": "python",
   "name": "python3"
  },
  "language_info": {
   "codemirror_mode": {
    "name": "ipython",
    "version": 3
   },
   "file_extension": ".py",
   "mimetype": "text/x-python",
   "name": "python",
   "nbconvert_exporter": "python",
   "pygments_lexer": "ipython3",
   "version": "3.11.9"
  }
 },
 "nbformat": 4,
 "nbformat_minor": 2
}
