{
 "cells": [
  {
   "cell_type": "markdown",
   "metadata": {},
   "source": [
    "Graph:"
   ]
  },
  {
   "cell_type": "markdown",
   "metadata": {},
   "source": [
    "1. Write a class Graph to implement adjacency matrix representation of a simple and undirected graph.(list of lists)\n",
    "2. In class Graph, define init method to initialise vertex_count and adj_matrix \n",
    "3. In class Graph, define add_edge() method add an edge in the graph with given weight.\n",
    "4. In class Graph, define remove_edge() method to remove an edge from the graph.\n",
    "5. In class Graph, define has_edge() method to check whether two given vertices are connected by an edge or not.\n",
    "6. In class Graph, define print_adj_matrix() method to print adjacency matrix."
   ]
  },
  {
   "cell_type": "code",
   "execution_count": 1,
   "metadata": {},
   "outputs": [
    {
     "data": {
      "text/plain": [
       "'\\n0 1 0 0 0\\n1 0 1 1 0\\n0 1 0 1 0\\n0 1 1 0 1\\n0 0 0 1 0\\n'"
      ]
     },
     "execution_count": 1,
     "metadata": {},
     "output_type": "execute_result"
    }
   ],
   "source": [
    "\"\"\"\n",
    "0 1 0 0 0\n",
    "1 0 1 1 0\n",
    "0 1 0 1 0\n",
    "0 1 1 0 1\n",
    "0 0 0 1 0\n",
    "\"\"\""
   ]
  },
  {
   "cell_type": "code",
   "execution_count": 2,
   "metadata": {},
   "outputs": [
    {
     "name": "stdout",
     "output_type": "stream",
     "text": [
      "Adjacent Matrix:\n",
      "0 1 0 0 2\n",
      "1 0 0 3 0\n",
      "0 0 0 0 0\n",
      "0 3 0 0 0\n",
      "2 0 0 0 0\n",
      "\n",
      "Checking if there's an edge between 0 and 1: True\n",
      "Checking if there's an edge between 2 and 3: False\n",
      "\n",
      "Adjacency Matrix after removing edge between 0 and 1:\n",
      "0 0 0 0 2\n",
      "0 0 0 3 0\n",
      "0 0 0 0 0\n",
      "0 3 0 0 0\n",
      "2 0 0 0 0\n"
     ]
    }
   ],
   "source": [
    "class graph:\n",
    "    def __init__(self,vertex_count):\n",
    "        self.vertex_count=vertex_count\n",
    "        self.adj_matrix=[[0 for _ in range(vertex_count)] for _ in range(vertex_count)]\n",
    "    def add_edge(self,u,v,weight=1):\n",
    "        self.adj_matrix[u][v]=weight\n",
    "        self.adj_matrix[v][u]=weight\n",
    "    def remove_edge(self,u,v):\n",
    "        self.adj_matrix[u][v]=0\n",
    "        self.adj_matrix[v][u]=0\n",
    "    def has_edge(self,u,v):\n",
    "        return self.adj_matrix[u][v]!=0\n",
    "    def print_adj_matrix(self):\n",
    "        for row in self.adj_matrix:\n",
    "            print(\" \".join(map(str,row)))\n",
    "if __name__==\"__main__\":\n",
    "    g=graph(5)\n",
    "    g.add_edge(0,1)\n",
    "    g.add_edge(0,4,2)\n",
    "    g.add_edge(1,3,3)\n",
    "    print(\"Adjacent Matrix:\")\n",
    "    g.print_adj_matrix()\n",
    "    print(\"\\nChecking if there's an edge between 0 and 1:\", g.has_edge(0, 1))\n",
    "    print(\"Checking if there's an edge between 2 and 3:\", g.has_edge(2, 3))\n",
    "    g.remove_edge(0,1)\n",
    "    print(\"\\nAdjacency Matrix after removing edge between 0 and 1:\")\n",
    "    g.print_adj_matrix()"
   ]
  },
  {
   "cell_type": "markdown",
   "metadata": {},
   "source": [
    " Adjacency List Implementation of Graph:"
   ]
  },
  {
   "cell_type": "markdown",
   "metadata": {},
   "source": [
    "1. Write a class Graph to implement list representation of a graph data structure.\n",
    "2. In class Graph, define __init__() method to initialise instance object variables vertex_count and a dict adj_list where key is vertex number and value is a list of adjacent vertices.\n",
    "3. In class Graph, define add_edge() method to add an edge in the graph with given vertices and weight.\n",
    "4. In class Graph, define remove_edge() method to remove an edge from the graph.\n",
    "5. In class Graph, define has_edge() method to check whether an edge exists or not for a given pair of vertices.\n",
    "6. In class Graph, define print_adj_list() method to print adjacency lists of graph."
   ]
  },
  {
   "cell_type": "code",
   "execution_count": 3,
   "metadata": {},
   "outputs": [
    {
     "name": "stdout",
     "output_type": "stream",
     "text": [
      "Adjacency List:\n",
      "0: [(1, 1), (4, 2)]\n",
      "1: [(0, 1), (3, 3)]\n",
      "2: []\n",
      "3: [(1, 3)]\n",
      "4: [(0, 2)]\n",
      "\n",
      "Checking if there's an edge between 0 and 1: True\n",
      "Checking if there's an edge between 2 and 3: False\n",
      "\n",
      "Adjacency List after removing edge between 0 and 1:\n",
      "0: [(4, 2)]\n",
      "1: [(3, 3)]\n",
      "2: []\n",
      "3: [(1, 3)]\n",
      "4: [(0, 2)]\n"
     ]
    }
   ],
   "source": [
    "class Graph:\n",
    "    def __init__(self,vert_count):\n",
    "        self.vert_count=vert_count\n",
    "        self.adj_list={i:[] for i in range(vert_count)}\n",
    "    def add_edge(self,u,v,weight=1):\n",
    "        self.adj_list[u].append((v,weight))\n",
    "        self.adj_list[v].append((u,weight))\n",
    "    def remove_edge(self,v,u):\n",
    "        self.adj_list[u]=[edge for edge in self.adj_list[u] if edge[0]!=v]\n",
    "        self.adj_list[v]=[edge for edge in self.adj_list[v] if edge[0]!=u]\n",
    "    def has_edge(self,v,u):\n",
    "        return any(vertex == v for vertex, _ in self.adj_list[u])\n",
    "    def print_adj_list(self):\n",
    "        for vertex,edges in self.adj_list.items():\n",
    "            print(f\"{vertex}: {[(v, w) for v, w in edges]}\")\n",
    "if __name__==\"__main__\":\n",
    "    g=Graph(5)\n",
    "    g.add_edge(0, 1)\n",
    "    g.add_edge(0, 4, 2)\n",
    "    g.add_edge(1, 3, 3)\n",
    "\n",
    "    print(\"Adjacency List:\")\n",
    "    g.print_adj_list()\n",
    "\n",
    "    print(\"\\nChecking if there's an edge between 0 and 1:\", g.has_edge(0, 1))\n",
    "    print(\"Checking if there's an edge between 2 and 3:\", g.has_edge(2, 3))\n",
    "\n",
    "    g.remove_edge(0, 1)\n",
    "    print(\"\\nAdjacency List after removing edge between 0 and 1:\")\n",
    "    g.print_adj_list()"
   ]
  }
 ],
 "metadata": {
  "kernelspec": {
   "display_name": "Python 3",
   "language": "python",
   "name": "python3"
  },
  "language_info": {
   "codemirror_mode": {
    "name": "ipython",
    "version": 3
   },
   "file_extension": ".py",
   "mimetype": "text/x-python",
   "name": "python",
   "nbconvert_exporter": "python",
   "pygments_lexer": "ipython3",
   "version": "3.11.9"
  }
 },
 "nbformat": 4,
 "nbformat_minor": 2
}
